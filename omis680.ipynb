{
  "nbformat": 4,
  "nbformat_minor": 0,
  "metadata": {
    "colab": {
      "name": "omis680.ipynb",
      "provenance": [],
      "authorship_tag": "ABX9TyMgWjNe0ssu0wHQbZc2h/QO",
      "include_colab_link": true
    },
    "kernelspec": {
      "name": "python3",
      "display_name": "Python 3"
    }
  },
  "cells": [
    {
      "cell_type": "markdown",
      "metadata": {
        "id": "view-in-github",
        "colab_type": "text"
      },
      "source": [
        "<a href=\"https://colab.research.google.com/github/yxchiwork/omis680/blob/main/omis680.ipynb\" target=\"_parent\"><img src=\"https://colab.research.google.com/assets/colab-badge.svg\" alt=\"Open In Colab\"/></a>"
      ]
    },
    {
      "cell_type": "markdown",
      "metadata": {
        "id": "uFLIn1LF5g_Q"
      },
      "source": [
        "# Assignment Content\n",
        "\n",
        "## OMIS 680 Inventory Management Assignment\n",
        "\n",
        "1.          You may write out your solutions to each of the problems and submit a PDF or prepare an Excel spreadsheet to solve the problems. If you use Excel, make sure that each problem is on its own worksheet.\n",
        "2.          You may work with your classmates.\n",
        "3.          Good luck!\n"
      ]
    },
    {
      "cell_type": "markdown",
      "metadata": {
        "id": "t5Glw9eZ5vqJ"
      },
      "source": [
        "## Problem 1\n",
        "\n",
        "Kelly Beaman oversees purchasing surgical supplies for a Barnes Hospital. Kelly is evaluating scalpels for the hospital's surgical use. The quantity—price schedules for McKesson is given in the following table. The annual demand for scalpels is 10,000 units. The ordering cost is \\$150 per order and the annual carrying cost is $1.95 per unit.\n",
        "\n",
        "![Capture3.PNG.png](data:image/png;base64,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) <br>\n",
        "What is the economic order quantity that should be ordered from McKesson? (10 points)\n",
        "Check EOQ for each price. "
      ]
    },
    {
      "cell_type": "code",
      "metadata": {
        "id": "Dlcirn-6iLUL"
      },
      "source": [
        "import math\n",
        "def eoq_cal(D,S,hC):\n",
        "  result = math.sqrt(2*D*S/hC)\n",
        "  print((\"EOQ is {:.0f}\".format(result)))\n",
        "def tc_eoq_cal(S,D,Q,hC,C):\n",
        "  result = (S*D/Q + hC*Q/2 + C*D)\n",
        "  print((\"Total cost TC = {:.0f}\".format(result)))\n",
        "\n",
        "def epq_cal(D,S,hC,P):\n",
        "  result = math.sqrt(2*D*S/hC/(1-D/P))\n",
        "  print((\"EPQ is {:.0f}\".format(result))) \n",
        "def epq_tc_cal(S,D,hC,Q,P):\n",
        "  result = (S*D + hC*Q/2*(1-D/P))\n",
        "  print((\"Total Cost TC = {:.0f}\".format(result)))\n",
        "\n",
        "\n"
      ],
      "execution_count": 12,
      "outputs": []
    },
    {
      "cell_type": "code",
      "metadata": {
        "colab": {
          "base_uri": "https://localhost:8080/",
          "height": 35
        },
        "id": "O9P1Vd1ckTx0",
        "outputId": "c0d3d37d-506b-4a87-9063-e398301af914"
      },
      "source": [
        "eoq_cal(10000,150,1.95)"
      ],
      "execution_count": 8,
      "outputs": [
        {
          "output_type": "execute_result",
          "data": {
            "application/vnd.google.colaboratory.intrinsic+json": {
              "type": "string"
            },
            "text/plain": [
              "'1240'"
            ]
          },
          "metadata": {
            "tags": []
          },
          "execution_count": 8
        }
      ]
    },
    {
      "cell_type": "markdown",
      "metadata": {
        "id": "WofqVU9j63AC"
      },
      "source": [
        "***\n",
        "### Answer 1\n",
        "***\n",
        "EOQ is calculated as below:  \n",
        "$$ \\sqrt{\\frac{2DS}{hC}} = \\sqrt{\\frac{2(10000)150}{1.95}} = 1240 $$\n",
        "So TC for all prices are showing as below: <br>\n",
        "$$ TC = S\\lgroup \\frac{D}{Q} \\rgroup + hC\\lgroup \\frac{Q}{2} \\rgroup + CD $$\n",
        "TC(C=$10,Q=1240) = $102419 \\\\\n",
        "TC(C=$9.75,Q=3000) = $100925 \\\\\n",
        "TC(C=$9.25,Q=5000) = $97675 \\\\\n",
        "TC(C=$9, Q=8000) = $97987 \\\\\n",
        "As a result, 5000 should be ordered. \n",
        "***"
      ]
    },
    {
      "cell_type": "markdown",
      "metadata": {
        "id": "FxVynNB854a1"
      },
      "source": [
        "## Problem 2\n",
        "\n",
        "The mythical Three Floyds Brewery in Munster, Indiana makes a beer called Zombie Dust, which it sells in large bottles to pubs and stores in the Midwest. The setup cost of brewing and bottling a batch of beer is \\$1,800 per setup. The holding cost of storing a bottle of beer is $2.50 per year. The annual demand for Zombie Dust is 20,000 bottles. Three Floyds Brewery can brew and bottle beer at the rate of 400 bottles per day. The brewery operates 250 days per year and currently produces Zombie Dust in batches of 10,000 bottles.\n",
        "\n",
        "1.           What is the annual holding and setup cost of their current production schedule? (3 points)\n",
        "\n",
        "2.           What is the economic production quantity (EPQ)? (4 points)\n",
        "\n",
        "3.           What is the cost difference between the current production schedule and the EPQ? (3 points)\n",
        "\n"
      ]
    },
    {
      "cell_type": "markdown",
      "metadata": {
        "id": "OPHFM5JcNIds"
      },
      "source": [
        "### Answer 2"
      ]
    },
    {
      "cell_type": "markdown",
      "metadata": {
        "id": "MZKJNCbPXkZs"
      },
      "source": [
        "All important variables listed below:\n",
        "\n",
        "* hC = $2.5 \n",
        "* D = 20,000/year \n",
        "* S = \\$1,800\n",
        "* P = 400/day = 400 * 250 = 100000\n",
        "\n",
        "1. Current Annual hosting cost and set up cost  \n",
        "= SD/Q + hCQ/2*(1-D/P) <br>\n",
        "= 1800*20000/10000 + 2.5*10000/2*(1-20000/100000)\n",
        "Current Q is 10,000, the cost is $13,600\n",
        "\n",
        "2. EPQ: \n",
        "$$ \\sqrt{\\frac{2DS}{hC(1-\\frac{D}{P})}} = \\sqrt{\\frac{2*20000*1800}{2.5*(1-20000/(400*250)}} = 6000 $$\n",
        "\n",
        "3. Cost diff:\n",
        "Current cost = 13600, EPQ cost = 12000\n",
        "Cost diff =  1600"
      ]
    },
    {
      "cell_type": "code",
      "metadata": {
        "colab": {
          "base_uri": "https://localhost:8080/"
        },
        "id": "tpPS6mohCVPu",
        "outputId": "c94a12f6-0487-4b56-b93c-1a2599b0691d"
      },
      "source": [
        "epq_cal(20000,1800,2.5,100000)"
      ],
      "execution_count": 13,
      "outputs": [
        {
          "output_type": "stream",
          "text": [
            "EPQ is 6000\n"
          ],
          "name": "stdout"
        }
      ]
    },
    {
      "cell_type": "markdown",
      "metadata": {
        "id": "PRPNcOPk51cf"
      },
      "source": [
        "## Problem 3\n",
        "\n",
        "Weekly demand for JW Dant Bourbon at the Rock Falls Binny’s is normally distributed, with a mean of 250 bottles and a standard deviation of 150 bottles. The store manager, Amy, continuously monitors inventory and currently orders 1,000 bottles each time the inventory drops to 600 bottles. JW Dant currently takes two weeks to fill an order.\n",
        "\n",
        "1.      How much safety inventory does Binny’s carry? (5 points)\n",
        "2.           What CSL does Binny’s achieve as a result of this policy? (5 points)"
      ]
    },
    {
      "cell_type": "markdown",
      "metadata": {
        "id": "5UUZOpcpNLYO"
      },
      "source": [
        "### Answer 3"
      ]
    },
    {
      "cell_type": "markdown",
      "metadata": {
        "id": "OsYymyusk0Es"
      },
      "source": [
        "Average Demand $D = 250$ \\\\\n",
        "Standard deviation of weekly demand \n",
        "$\\sigma_D = 150 $ \\\\\n",
        "Average lead time for replenishment, $L = 2 weeks$\n",
        "Reorder point, $ROP = 600 $ \\\\\n",
        "Average lot size, $Q = 1000$ \\\\\n",
        "Question 1: \\\\\n",
        "$SS = ROP - D \\times L = 600 - 250 \\times 2 = 100 $ \n",
        "Question 2: \\\\\n",
        "$ D_L = D \\times L = 250 \\times 2 = 500 $ \\\\\n",
        "$ \\sigma_L = \\sqrt L\\sigma_D = \\sqrt 2 \\times 150 = 212  $ \\\\\n",
        "$ CSL = NORMDIST(ROP, D_L,\\sigma_L,1) = \\\\\n",
        "NORMDIST(600,500,212,1) = 0.681428858 = 0.68 $ \\\\\n",
        "It's 68% Cycle Service Level. \\\\\n",
        "Z = 0.468"
      ]
    },
    {
      "cell_type": "markdown",
      "metadata": {
        "id": "Ko1P-j-c5zqc"
      },
      "source": [
        "## Problem 4\n",
        "\n",
        "Weekly demand for Nateczowianka water at the Blue Goose Market is normally distributed, with a mean of 1,000 and a standard deviation of 300. The supplier takes three weeks to supply a Blue Goose order. However, their supply times is quite variable with a variance of four weeks. The Blue Goose is aiming for a fill rate of 99 percent and monitors its inventory continuously.\n",
        "\n",
        "1. What is the reorder point for the Blue Goose? (6 points)\n",
        "2.           How much safety stock of Nateczowianka water should the Blue Goose carry? (4 points)"
      ]
    },
    {
      "cell_type": "markdown",
      "metadata": {
        "id": "F9tFRb_5NN_M"
      },
      "source": [
        "### Answer 4"
      ]
    },
    {
      "cell_type": "code",
      "metadata": {
        "id": "5gj0gelo576U"
      },
      "source": [
        ""
      ],
      "execution_count": null,
      "outputs": []
    },
    {
      "cell_type": "markdown",
      "metadata": {
        "id": "k1ssn1Ip5x1L"
      },
      "source": [
        "## Problem 5\n",
        "\n",
        "McDonald’s is running a promotion for children’s meals for which it offers a Marvel Avenger’s toy. A single order will be placed for the toys. Each toy costs \\$0.60 and any unsold toys will be scrapped at the end of the promotion. The margin from each kid’s meal is $1.00 and children are likely to make their parents go to Burger King if McDonald’s is out of toys. The demand for kid’s meals with the toys is estimated to be normally distributed with a mean of 50,000 and a standard deviation of 15,000. \n",
        "1. How many Marvel Avenger’s toys should be ordered in advance of this promotion? (10 points)"
      ]
    },
    {
      "cell_type": "markdown",
      "metadata": {
        "id": "LXAcA46ONTVF"
      },
      "source": [
        "### Answer 5"
      ]
    },
    {
      "cell_type": "code",
      "metadata": {
        "id": "DGLdFyAW58ea"
      },
      "source": [
        ""
      ],
      "execution_count": null,
      "outputs": []
    }
  ]
}